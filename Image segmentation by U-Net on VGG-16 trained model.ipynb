{
 "cells": [
  {
   "cell_type": "markdown",
   "id": "897a47db",
   "metadata": {},
   "source": [
    "# Image Segmentation:\n",
    "- Unet model and combine with transfer learning from VGG-16\n",
    "- Data is trained on in-built dataset: \"Oxford_iiit_pet\"\n",
    "- Perfrom both sementic, instance and phenoptic segmentation"
   ]
  },
  {
   "cell_type": "markdown",
   "id": "382535ab",
   "metadata": {},
   "source": [
    "# Need help in debuging the code and also implement on other dataset like COCO"
   ]
  },
  {
   "cell_type": "markdown",
   "id": "75af21b1",
   "metadata": {},
   "source": [
    "# Here only sementic segemnetation is being tested."
   ]
  },
  {
   "cell_type": "code",
   "execution_count": 1,
   "id": "cc4f3503",
   "metadata": {},
   "outputs": [],
   "source": [
    "import tensorflow as tf\n",
    "from tensorflow.keras.applications import VGG16\n",
    "from tensorflow.keras.layers import Conv2D, Conv2DTranspose, Concatenate\n",
    "from tensorflow.keras.models import Model\n",
    "from tensorflow.keras.optimizers import Adam\n",
    "from tensorflow.keras.losses import BinaryCrossentropy\n",
    "import tensorflow_datasets as tfds"
   ]
  },
  {
   "cell_type": "code",
   "execution_count": 2,
   "id": "8563c323",
   "metadata": {},
   "outputs": [
    {
     "name": "stdout",
     "output_type": "stream",
     "text": [
      "1\n",
      "FeaturesDict({\n",
      "    'file_name': Text(shape=(), dtype=string),\n",
      "    'image': Image(shape=(None, None, 3), dtype=uint8),\n",
      "    'label': ClassLabel(shape=(), dtype=int64, num_classes=37),\n",
      "    'segmentation_mask': Image(shape=(None, None, 1), dtype=uint8),\n",
      "    'species': ClassLabel(shape=(), dtype=int64, num_classes=2),\n",
      "})\n"
     ]
    }
   ],
   "source": [
    "# Load the Oxford-IIIT Pet dataset\n",
    "dataset, info = tfds.load('oxford_iiit_pet:3.*.*', split='train', shuffle_files=True, with_info=True)\n",
    "\n",
    "# Determine the number of classes in the segmentation mask\n",
    "num_classes = info.features['segmentation_mask'].shape[-1]\n",
    "print(num_classes)\n",
    "print(info.features)\n",
    "\n",
    "# Prepare the dataset for training\n",
    "def preprocess(example):\n",
    "    image = tf.image.resize(example['image'], (32, 32))\n",
    "    mask = tf.image.resize(example['segmentation_mask'], (32, 32))\n",
    "    image = tf.keras.applications.vgg16.preprocess_input(image)\n",
    "    mask = tf.cast(mask, tf.float32) / 255.0\n",
    "    return image, mask\n",
    "\n",
    "dataset = dataset.map(preprocess)\n",
    "dataset = dataset.batch(32).prefetch(tf.data.AUTOTUNE)"
   ]
  },
  {
   "cell_type": "code",
   "execution_count": 3,
   "id": "5617b039",
   "metadata": {},
   "outputs": [
    {
     "name": "stdout",
     "output_type": "stream",
     "text": [
      "Input Images shape: (3680, 32, 32, 3)\n",
      "Labels shape: (3680, 32, 32, 1)\n"
     ]
    }
   ],
   "source": [
    "# Separate input features (images) and labels (masks)\n",
    "input_images = []\n",
    "labels = []\n",
    "\n",
    "for image, mask in dataset:\n",
    "    input_images.append(image)\n",
    "    labels.append(mask)\n",
    "\n",
    "input_images = tf.concat(input_images, axis=0)\n",
    "labels = tf.concat(labels, axis=0)\n",
    "\n",
    "# Print the shapes of input images and labels\n",
    "print(\"Input Images shape:\", input_images.shape)\n",
    "print(\"Labels shape:\", labels.shape)"
   ]
  },
  {
   "cell_type": "code",
   "execution_count": 4,
   "id": "e9daff1c",
   "metadata": {},
   "outputs": [
    {
     "name": "stdout",
     "output_type": "stream",
     "text": [
      "Model: \"vgg16\"\n",
      "_________________________________________________________________\n",
      " Layer (type)                Output Shape              Param #   \n",
      "=================================================================\n",
      " input_1 (InputLayer)        [(None, 32, 32, 3)]       0         \n",
      "                                                                 \n",
      " block1_conv1 (Conv2D)       (None, 32, 32, 64)        1792      \n",
      "                                                                 \n",
      " block1_conv2 (Conv2D)       (None, 32, 32, 64)        36928     \n",
      "                                                                 \n",
      " block1_pool (MaxPooling2D)  (None, 16, 16, 64)        0         \n",
      "                                                                 \n",
      " block2_conv1 (Conv2D)       (None, 16, 16, 128)       73856     \n",
      "                                                                 \n",
      " block2_conv2 (Conv2D)       (None, 16, 16, 128)       147584    \n",
      "                                                                 \n",
      " block2_pool (MaxPooling2D)  (None, 8, 8, 128)         0         \n",
      "                                                                 \n",
      " block3_conv1 (Conv2D)       (None, 8, 8, 256)         295168    \n",
      "                                                                 \n",
      " block3_conv2 (Conv2D)       (None, 8, 8, 256)         590080    \n",
      "                                                                 \n",
      " block3_conv3 (Conv2D)       (None, 8, 8, 256)         590080    \n",
      "                                                                 \n",
      " block3_pool (MaxPooling2D)  (None, 4, 4, 256)         0         \n",
      "                                                                 \n",
      " block4_conv1 (Conv2D)       (None, 4, 4, 512)         1180160   \n",
      "                                                                 \n",
      " block4_conv2 (Conv2D)       (None, 4, 4, 512)         2359808   \n",
      "                                                                 \n",
      " block4_conv3 (Conv2D)       (None, 4, 4, 512)         2359808   \n",
      "                                                                 \n",
      " block4_pool (MaxPooling2D)  (None, 2, 2, 512)         0         \n",
      "                                                                 \n",
      " block5_conv1 (Conv2D)       (None, 2, 2, 512)         2359808   \n",
      "                                                                 \n",
      " block5_conv2 (Conv2D)       (None, 2, 2, 512)         2359808   \n",
      "                                                                 \n",
      " block5_conv3 (Conv2D)       (None, 2, 2, 512)         2359808   \n",
      "                                                                 \n",
      " block5_pool (MaxPooling2D)  (None, 1, 1, 512)         0         \n",
      "                                                                 \n",
      "=================================================================\n",
      "Total params: 14,714,688\n",
      "Trainable params: 0\n",
      "Non-trainable params: 14,714,688\n",
      "_________________________________________________________________\n"
     ]
    }
   ],
   "source": [
    "# Load the pre-trained VGG16 model without top layers\n",
    "base_model = VGG16(weights='imagenet', include_top=False, input_shape=(32, 32, 3))\n",
    "\n",
    "# Freeze the VGG16 layers\n",
    "base_model.trainable = False\n",
    "\n",
    "base_model.summary()"
   ]
  },
  {
   "cell_type": "code",
   "execution_count": 5,
   "id": "fee7b6b4",
   "metadata": {},
   "outputs": [
    {
     "name": "stdout",
     "output_type": "stream",
     "text": [
      "Model: \"model\"\n",
      "_________________________________________________________________\n",
      " Layer (type)                Output Shape              Param #   \n",
      "=================================================================\n",
      " input_1 (InputLayer)        [(None, 32, 32, 3)]       0         \n",
      "                                                                 \n",
      " block1_conv1 (Conv2D)       (None, 32, 32, 64)        1792      \n",
      "                                                                 \n",
      " block1_conv2 (Conv2D)       (None, 32, 32, 64)        36928     \n",
      "                                                                 \n",
      " block1_pool (MaxPooling2D)  (None, 16, 16, 64)        0         \n",
      "                                                                 \n",
      " block2_conv1 (Conv2D)       (None, 16, 16, 128)       73856     \n",
      "                                                                 \n",
      " block2_conv2 (Conv2D)       (None, 16, 16, 128)       147584    \n",
      "                                                                 \n",
      " block2_pool (MaxPooling2D)  (None, 8, 8, 128)         0         \n",
      "                                                                 \n",
      " block3_conv1 (Conv2D)       (None, 8, 8, 256)         295168    \n",
      "                                                                 \n",
      " block3_conv2 (Conv2D)       (None, 8, 8, 256)         590080    \n",
      "                                                                 \n",
      " block3_conv3 (Conv2D)       (None, 8, 8, 256)         590080    \n",
      "                                                                 \n",
      " block3_pool (MaxPooling2D)  (None, 4, 4, 256)         0         \n",
      "                                                                 \n",
      " block4_conv1 (Conv2D)       (None, 4, 4, 512)         1180160   \n",
      "                                                                 \n",
      " block4_conv2 (Conv2D)       (None, 4, 4, 512)         2359808   \n",
      "                                                                 \n",
      " block4_conv3 (Conv2D)       (None, 4, 4, 512)         2359808   \n",
      "                                                                 \n",
      " block4_pool (MaxPooling2D)  (None, 2, 2, 512)         0         \n",
      "                                                                 \n",
      " block5_conv1 (Conv2D)       (None, 2, 2, 512)         2359808   \n",
      "                                                                 \n",
      " block5_conv2 (Conv2D)       (None, 2, 2, 512)         2359808   \n",
      "                                                                 \n",
      " block5_conv3 (Conv2D)       (None, 2, 2, 512)         2359808   \n",
      "                                                                 \n",
      " conv2d (Conv2D)             (None, 2, 2, 1024)        4719616   \n",
      "                                                                 \n",
      " conv2d_1 (Conv2D)           (None, 2, 2, 1024)        9438208   \n",
      "                                                                 \n",
      " conv2d_transpose (Conv2DTra  (None, 4, 4, 512)        4719104   \n",
      " nspose)                                                         \n",
      "                                                                 \n",
      " conv2d_2 (Conv2D)           (None, 4, 4, 512)         2359808   \n",
      "                                                                 \n",
      " conv2d_3 (Conv2D)           (None, 4, 4, 512)         2359808   \n",
      "                                                                 \n",
      " conv2d_transpose_1 (Conv2DT  (None, 8, 8, 256)        1179904   \n",
      " ranspose)                                                       \n",
      "                                                                 \n",
      " conv2d_4 (Conv2D)           (None, 8, 8, 256)         590080    \n",
      "                                                                 \n",
      " conv2d_5 (Conv2D)           (None, 8, 8, 256)         590080    \n",
      "                                                                 \n",
      " conv2d_transpose_2 (Conv2DT  (None, 16, 16, 128)      295040    \n",
      " ranspose)                                                       \n",
      "                                                                 \n",
      " conv2d_6 (Conv2D)           (None, 16, 16, 128)       147584    \n",
      "                                                                 \n",
      " conv2d_7 (Conv2D)           (None, 16, 16, 128)       147584    \n",
      "                                                                 \n",
      " conv2d_transpose_3 (Conv2DT  (None, 32, 32, 64)       73792     \n",
      " ranspose)                                                       \n",
      "                                                                 \n",
      " conv2d_8 (Conv2D)           (None, 32, 32, 64)        36928     \n",
      "                                                                 \n",
      " conv2d_9 (Conv2D)           (None, 32, 32, 64)        36928     \n",
      "                                                                 \n",
      " conv2d_10 (Conv2D)          (None, 32, 32, 1)         65        \n",
      "                                                                 \n",
      "=================================================================\n",
      "Total params: 41,409,217\n",
      "Trainable params: 26,694,529\n",
      "Non-trainable params: 14,714,688\n",
      "_________________________________________________________________\n"
     ]
    }
   ],
   "source": [
    "# Build the U-Net model on top of VGG16\n",
    "conv_layers = base_model.get_layer('block5_conv3').output\n",
    "\n",
    "x = Conv2D(1024, 3, activation='relu', padding='same')(conv_layers)\n",
    "x = Conv2D(1024, 3, activation='relu', padding='same')(x)\n",
    "x = Conv2DTranspose(512, 3, strides=2, activation='relu', padding='same')(x)\n",
    "# x = Concatenate()([x, base_model.get_layer('block4_conv3').output])\n",
    "x = Conv2D(512, 3, activation='relu', padding='same')(x)\n",
    "x = Conv2D(512, 3, activation='relu', padding='same')(x)\n",
    "x = Conv2DTranspose(256, 3, strides=2, activation='relu', padding='same')(x)\n",
    "# x = Concatenate()([x, base_model.get_layer('block3_conv3').output])\n",
    "x = Conv2D(256, 3, activation='relu', padding='same')(x)\n",
    "x = Conv2D(256, 3, activation='relu', padding='same')(x)\n",
    "x = Conv2DTranspose(128, 3, strides=2, activation='relu', padding='same')(x)\n",
    "# x = Concatenate()([x, base_model.get_layer('block2_conv2').output])\n",
    "x = Conv2D(128, 3, activation='relu', padding='same')(x)\n",
    "x = Conv2D(128, 3, activation='relu', padding='same')(x)\n",
    "x = Conv2DTranspose(64, 3, strides=2, activation='relu', padding='same')(x)\n",
    "# x = Concatenate()([x, base_model.get_layer('block1_conv2').output])\n",
    "x = Conv2D(64, 3, activation='relu', padding='same')(x)\n",
    "x = Conv2D(64, 3, activation='relu', padding='same')(x)\n",
    "output = Conv2D(1, 1, activation='sigmoid')(x)\n",
    "\n",
    "# Create the segmentation model\n",
    "model = Model(inputs=base_model.input, outputs=output)\n",
    "\n",
    "model.summary()"
   ]
  },
  {
   "cell_type": "code",
   "execution_count": 20,
   "id": "68552267",
   "metadata": {
    "scrolled": false
   },
   "outputs": [
    {
     "name": "stdout",
     "output_type": "stream",
     "text": [
      "Epoch 1/10\n",
      "115/115 [==============================] - 843s 7s/step - loss: 0.2839 - accuracy: 0.0000e+00\n",
      "Epoch 2/10\n",
      "115/115 [==============================] - 826s 7s/step - loss: 0.0430 - accuracy: 0.0000e+00\n",
      "Epoch 3/10\n",
      "115/115 [==============================] - 826s 7s/step - loss: 0.0423 - accuracy: 0.0000e+00\n",
      "Epoch 4/10\n",
      "115/115 [==============================] - 819s 7s/step - loss: 0.0422 - accuracy: 0.0000e+00\n",
      "Epoch 5/10\n",
      "115/115 [==============================] - 789s 7s/step - loss: 0.0422 - accuracy: 0.0000e+00\n",
      "Epoch 6/10\n",
      "115/115 [==============================] - 830s 7s/step - loss: 0.0422 - accuracy: 0.0000e+00\n",
      "Epoch 7/10\n",
      "115/115 [==============================] - 837s 7s/step - loss: 0.0422 - accuracy: 0.0000e+00\n",
      "Epoch 8/10\n",
      "115/115 [==============================] - 797s 7s/step - loss: 0.0422 - accuracy: 0.0000e+00\n",
      "Epoch 9/10\n",
      "115/115 [==============================] - 769s 7s/step - loss: 0.0422 - accuracy: 0.0000e+00\n",
      "Epoch 10/10\n",
      "115/115 [==============================] - 838s 7s/step - loss: 0.0422 - accuracy: 0.0000e+00\n"
     ]
    },
    {
     "data": {
      "text/plain": [
       "<keras.callbacks.History at 0x303d41b950>"
      ]
     },
     "execution_count": 20,
     "metadata": {},
     "output_type": "execute_result"
    }
   ],
   "source": [
    "# Compile the model\n",
    "model.compile(optimizer='adam', loss='binary_crossentropy', metrics=['accuracy'])\n",
    "\n",
    "# Train the model\n",
    "epochs = 10\n",
    "model.fit(dataset, epochs=epochs)"
   ]
  },
  {
   "cell_type": "code",
   "execution_count": 21,
   "id": "94c47c2a",
   "metadata": {},
   "outputs": [],
   "source": [
    "# Save the trained model\n",
    "model.save('second_unet__segmentation.h5')"
   ]
  },
  {
   "cell_type": "code",
   "execution_count": 23,
   "id": "dd95f5f2",
   "metadata": {
    "scrolled": true
   },
   "outputs": [
    {
     "name": "stdout",
     "output_type": "stream",
     "text": [
      "1/1 [==============================] - 1s 806ms/step\n"
     ]
    },
    {
     "data": {
      "image/png": "[encoded data removed]",
      "text/plain": [
       "<Figure size 640x480 with 1 Axes>"
      ]
     },
     "metadata": {},
     "output_type": "display_data"
    }
   ],
   "source": [
    "import tensorflow as tf\n",
    "import numpy as np\n",
    "from PIL import Image\n",
    "\n",
    "# Load the saved model\n",
    "model = tf.keras.models.load_model('second_unet__segmentation.h5')\n",
    "\n",
    "# Load or preprocess the image you want to segment\n",
    "image = plt.imread('catt.jpg')\n",
    "\n",
    "# Preprocess the image\n",
    "resized_image = tf.image.resize(image, (32, 32))\n",
    "preprocessed_image = tf.keras.applications.vgg16.preprocess_input(resized_image)\n",
    "input_image = np.expand_dims(preprocessed_image, axis=0)\n",
    "\n",
    "# Predict the segmentation mask\n",
    "predicted_mask = model.predict(input_image)\n",
    "\n",
    "# Post-process the predicted mask\n",
    "threshold = 0.1  # Adjust this threshold as needed\n",
    "segmented_mask = (predicted_mask > threshold).astype(np.uint8) * 255\n",
    "\n",
    "# Visualize the segmented image\n",
    "plt.imshow(segmented_mask.squeeze(), cmap='jet')\n",
    "plt.axis('off')\n",
    "plt.show()"
   ]
  },
  {
   "cell_type": "code",
   "execution_count": null,
   "id": "1296450f",
   "metadata": {},
   "outputs": [],
   "source": []
  },
  {
   "cell_type": "code",
   "execution_count": 13,
   "id": "8ab62e8f",
   "metadata": {
    "scrolled": false
   },
   "outputs": [
    {
     "data": {
      "image/png": "[encoded data removed]",
      "text/plain": [
       "<Figure size 3200x3200 with 2 Axes>"
      ]
     },
     "metadata": {},
     "output_type": "display_data"
    }
   ],
   "source": [
    "import numpy as np\n",
    "import matplotlib.pyplot as plt\n",
    "\n",
    "def display(display_list):\n",
    " plt.figure(figsize=(32, 32))\n",
    " title = [\"Input Image\", \"True Mask\"]\n",
    " for i in range(len(display_list)):\n",
    "   plt.subplot(1, len(display_list), i+1)\n",
    "   plt.title(title[i])\n",
    "   plt.imshow(tf.keras.utils.array_to_img(display_list[i]))\n",
    "   plt.axis(\"off\")\n",
    " plt.show()\n",
    "sample_batch = next(iter(dataset))\n",
    "random_index = np.random.choice(sample_batch[0].shape[0])\n",
    "sample_image, sample_mask = sample_batch[0][random_index], sample_batch[1][random_index]\n",
    "display([sample_image, sample_mask])"
   ]
  }
 ],
 "metadata": {
  "kernelspec": {
   "display_name": "Python 3 (ipykernel)",
   "language": "python",
   "name": "python3"
  },
  "language_info": {
   "codemirror_mode": {
    "name": "ipython",
    "version": 3
   },
   "file_extension": ".py",
   "mimetype": "text/x-python",
   "name": "python",
   "nbconvert_exporter": "python",
   "pygments_lexer": "ipython3",
   "version": "3.11.2"
  }
 },
 "nbformat": 4,
 "nbformat_minor": 5
}
